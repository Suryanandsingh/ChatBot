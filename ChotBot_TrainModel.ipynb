{
 "cells": [
  {
   "cell_type": "code",
   "execution_count": 1,
   "metadata": {
    "collapsed": true
   },
   "outputs": [],
   "source": [
    "# Import libraries\n",
    "import pickle, gensim\n",
    "import numpy as np"
   ]
  },
  {
   "cell_type": "code",
   "execution_count": 2,
   "metadata": {
    "collapsed": true
   },
   "outputs": [],
   "source": [
    "#load conversation data\n",
    "with open('conversation_jokes.pickle', 'rb') as f:\n",
    "    vec_x,vec_y=pickle.load(f) "
   ]
  },
  {
   "cell_type": "code",
   "execution_count": 3,
   "metadata": {
    "collapsed": true
   },
   "outputs": [],
   "source": [
    "# convert into numpy array\n",
    "vec_x = np.array(vec_x,dtype=object )"
   ]
  },
  {
   "cell_type": "code",
   "execution_count": 4,
   "metadata": {
    "scrolled": true
   },
   "outputs": [
    {
     "data": {
      "text/plain": [
       "(86, 7, 100)"
      ]
     },
     "execution_count": 4,
     "metadata": {},
     "output_type": "execute_result"
    }
   ],
   "source": [
    "vec_x.shape"
   ]
  },
  {
   "cell_type": "code",
   "execution_count": 5,
   "metadata": {
    "collapsed": true
   },
   "outputs": [],
   "source": [
    "vec_y = np.array(vec_y, dtype=object)"
   ]
  },
  {
   "cell_type": "code",
   "execution_count": 6,
   "metadata": {},
   "outputs": [
    {
     "data": {
      "text/plain": [
       "(86, 7, 100)"
      ]
     },
     "execution_count": 6,
     "metadata": {},
     "output_type": "execute_result"
    }
   ],
   "source": [
    "vec_y.shape"
   ]
  },
  {
   "cell_type": "code",
   "execution_count": 7,
   "metadata": {
    "collapsed": true
   },
   "outputs": [],
   "source": [
    "#Split data with 80% train and 20% test\n",
    "from sklearn.model_selection import train_test_split\n",
    "x_train,x_test, y_train,y_test = train_test_split(vec_x, vec_y, test_size=0.2, random_state=1)"
   ]
  },
  {
   "cell_type": "code",
   "execution_count": 8,
   "metadata": {},
   "outputs": [
    {
     "name": "stderr",
     "output_type": "stream",
     "text": [
      "Using TensorFlow backend.\n"
     ]
    }
   ],
   "source": [
    "# Import keras libraries\n",
    "from keras.models import Sequential\n",
    "from keras.layers.recurrent import LSTM"
   ]
  },
  {
   "cell_type": "code",
   "execution_count": 9,
   "metadata": {
    "collapsed": true
   },
   "outputs": [],
   "source": [
    "# Train model\n",
    "model = Sequential()"
   ]
  },
  {
   "cell_type": "code",
   "execution_count": 10,
   "metadata": {
    "scrolled": true
   },
   "outputs": [
    {
     "name": "stderr",
     "output_type": "stream",
     "text": [
      "/home/surya/anaconda3/lib/python3.6/site-packages/ipykernel_launcher.py:2: UserWarning: Update your `LSTM` call to the Keras 2 API: `LSTM(input_shape=(7, 100), return_sequences=True, activation=\"sigmoid\", units=100, kernel_initializer=\"glorot_normal\", recurrent_initializer=\"glorot_normal\")`\n",
      "  \n"
     ]
    }
   ],
   "source": [
    "# Train model with LSTM\n",
    "model.add(LSTM(output_dim=100,input_shape=x_train.shape[1:],return_sequences=True, init='glorot_normal', inner_init='glorot_normal', activation='sigmoid'))"
   ]
  },
  {
   "cell_type": "code",
   "execution_count": 11,
   "metadata": {
    "collapsed": true
   },
   "outputs": [],
   "source": [
    "# compile the model\n",
    "model.compile(loss='cosine_proximity', optimizer='adam', metrics=['accuracy'])"
   ]
  },
  {
   "cell_type": "code",
   "execution_count": 12,
   "metadata": {
    "scrolled": true
   },
   "outputs": [
    {
     "name": "stdout",
     "output_type": "stream",
     "text": [
      "Train on 68 samples, validate on 18 samples\n",
      "Epoch 1/200\n",
      "68/68 [==============================] - 0s 6ms/step - loss: -0.3615 - acc: 0.0105 - val_loss: -0.3474 - val_acc: 0.0159\n",
      "Epoch 2/200\n",
      "68/68 [==============================] - 0s 1ms/step - loss: -0.3845 - acc: 0.0210 - val_loss: -0.3654 - val_acc: 0.0079\n",
      "Epoch 3/200\n",
      "68/68 [==============================] - 0s 1ms/step - loss: -0.4006 - acc: 0.0189 - val_loss: -0.3807 - val_acc: 0.0159\n",
      "Epoch 4/200\n",
      "68/68 [==============================] - 0s 1ms/step - loss: -0.4136 - acc: 0.0189 - val_loss: -0.3944 - val_acc: 0.0159\n",
      "Epoch 5/200\n",
      "68/68 [==============================] - 0s 1ms/step - loss: -0.4251 - acc: 0.0168 - val_loss: -0.4063 - val_acc: 0.0000e+00\n",
      "Epoch 6/200\n",
      "68/68 [==============================] - 0s 1ms/step - loss: -0.4343 - acc: 0.0147 - val_loss: -0.4171 - val_acc: 0.0000e+00\n",
      "Epoch 7/200\n",
      "68/68 [==============================] - 0s 1ms/step - loss: -0.4428 - acc: 0.0063 - val_loss: -0.4265 - val_acc: 0.0079\n",
      "Epoch 8/200\n",
      "68/68 [==============================] - 0s 1ms/step - loss: -0.4501 - acc: 0.0147 - val_loss: -0.4346 - val_acc: 0.0079\n",
      "Epoch 9/200\n",
      "68/68 [==============================] - 0s 1ms/step - loss: -0.4564 - acc: 0.0210 - val_loss: -0.4421 - val_acc: 0.0079\n",
      "Epoch 10/200\n",
      "68/68 [==============================] - 0s 932us/step - loss: -0.4619 - acc: 0.0252 - val_loss: -0.4493 - val_acc: 0.0079\n",
      "Epoch 11/200\n",
      "68/68 [==============================] - 0s 1ms/step - loss: -0.4671 - acc: 0.0189 - val_loss: -0.4555 - val_acc: 0.0079\n",
      "Epoch 12/200\n",
      "68/68 [==============================] - 0s 1ms/step - loss: -0.4717 - acc: 0.0231 - val_loss: -0.4611 - val_acc: 0.0079\n",
      "Epoch 13/200\n",
      "68/68 [==============================] - 0s 1ms/step - loss: -0.4760 - acc: 0.0252 - val_loss: -0.4662 - val_acc: 0.0079\n",
      "Epoch 14/200\n",
      "68/68 [==============================] - 0s 1ms/step - loss: -0.4799 - acc: 0.0294 - val_loss: -0.4709 - val_acc: 0.0079\n",
      "Epoch 15/200\n",
      "68/68 [==============================] - 0s 1ms/step - loss: -0.4834 - acc: 0.0273 - val_loss: -0.4756 - val_acc: 0.0079\n",
      "Epoch 16/200\n",
      "68/68 [==============================] - 0s 1ms/step - loss: -0.4866 - acc: 0.0294 - val_loss: -0.4797 - val_acc: 0.0079\n",
      "Epoch 17/200\n",
      "68/68 [==============================] - 0s 1ms/step - loss: -0.4895 - acc: 0.0315 - val_loss: -0.4834 - val_acc: 0.0079\n",
      "Epoch 18/200\n",
      "68/68 [==============================] - 0s 1ms/step - loss: -0.4922 - acc: 0.0294 - val_loss: -0.4867 - val_acc: 0.0159\n",
      "Epoch 19/200\n",
      "68/68 [==============================] - 0s 1ms/step - loss: -0.4946 - acc: 0.0357 - val_loss: -0.4896 - val_acc: 0.0159\n",
      "Epoch 20/200\n",
      "68/68 [==============================] - 0s 1ms/step - loss: -0.4969 - acc: 0.0399 - val_loss: -0.4919 - val_acc: 0.0159\n",
      "Epoch 21/200\n",
      "68/68 [==============================] - 0s 1ms/step - loss: -0.4990 - acc: 0.0525 - val_loss: -0.4940 - val_acc: 0.0159\n",
      "Epoch 22/200\n",
      "68/68 [==============================] - 0s 1ms/step - loss: -0.5008 - acc: 0.0588 - val_loss: -0.4958 - val_acc: 0.0317\n",
      "Epoch 23/200\n",
      "68/68 [==============================] - 0s 1ms/step - loss: -0.5024 - acc: 0.0630 - val_loss: -0.4980 - val_acc: 0.0317\n",
      "Epoch 24/200\n",
      "68/68 [==============================] - 0s 1ms/step - loss: -0.5041 - acc: 0.0693 - val_loss: -0.4999 - val_acc: 0.0556\n",
      "Epoch 25/200\n",
      "68/68 [==============================] - 0s 1ms/step - loss: -0.5058 - acc: 0.0756 - val_loss: -0.5015 - val_acc: 0.0556\n",
      "Epoch 26/200\n",
      "68/68 [==============================] - 0s 1ms/step - loss: -0.5072 - acc: 0.0756 - val_loss: -0.5034 - val_acc: 0.0635\n",
      "Epoch 27/200\n",
      "68/68 [==============================] - 0s 1ms/step - loss: -0.5087 - acc: 0.0819 - val_loss: -0.5050 - val_acc: 0.0714\n",
      "Epoch 28/200\n",
      "68/68 [==============================] - 0s 1ms/step - loss: -0.5101 - acc: 0.0882 - val_loss: -0.5065 - val_acc: 0.0714\n",
      "Epoch 29/200\n",
      "68/68 [==============================] - 0s 1ms/step - loss: -0.5113 - acc: 0.0903 - val_loss: -0.5080 - val_acc: 0.0794\n",
      "Epoch 30/200\n",
      "68/68 [==============================] - 0s 1ms/step - loss: -0.5126 - acc: 0.0924 - val_loss: -0.5093 - val_acc: 0.0794\n",
      "Epoch 31/200\n",
      "68/68 [==============================] - 0s 1ms/step - loss: -0.5137 - acc: 0.0924 - val_loss: -0.5105 - val_acc: 0.0794\n",
      "Epoch 32/200\n",
      "68/68 [==============================] - 0s 1ms/step - loss: -0.5148 - acc: 0.0945 - val_loss: -0.5117 - val_acc: 0.0794\n",
      "Epoch 33/200\n",
      "68/68 [==============================] - 0s 1ms/step - loss: -0.5158 - acc: 0.0945 - val_loss: -0.5129 - val_acc: 0.0794\n",
      "Epoch 34/200\n",
      "68/68 [==============================] - 0s 1ms/step - loss: -0.5168 - acc: 0.0924 - val_loss: -0.5139 - val_acc: 0.0794\n",
      "Epoch 35/200\n",
      "68/68 [==============================] - 0s 1ms/step - loss: -0.5178 - acc: 0.0903 - val_loss: -0.5147 - val_acc: 0.0794\n",
      "Epoch 36/200\n",
      "68/68 [==============================] - 0s 1ms/step - loss: -0.5185 - acc: 0.0903 - val_loss: -0.5154 - val_acc: 0.0794\n",
      "Epoch 37/200\n",
      "68/68 [==============================] - 0s 1ms/step - loss: -0.5193 - acc: 0.0903 - val_loss: -0.5161 - val_acc: 0.0794\n",
      "Epoch 38/200\n",
      "68/68 [==============================] - 0s 1ms/step - loss: -0.5201 - acc: 0.0924 - val_loss: -0.5171 - val_acc: 0.0794\n",
      "Epoch 39/200\n",
      "68/68 [==============================] - 0s 1ms/step - loss: -0.5210 - acc: 0.0945 - val_loss: -0.5179 - val_acc: 0.0794\n",
      "Epoch 40/200\n",
      "68/68 [==============================] - 0s 1ms/step - loss: -0.5218 - acc: 0.0924 - val_loss: -0.5186 - val_acc: 0.0794\n",
      "Epoch 41/200\n",
      "68/68 [==============================] - 0s 1ms/step - loss: -0.5223 - acc: 0.0924 - val_loss: -0.5193 - val_acc: 0.0714\n",
      "Epoch 42/200\n",
      "68/68 [==============================] - 0s 1ms/step - loss: -0.5231 - acc: 0.0945 - val_loss: -0.5200 - val_acc: 0.0714\n",
      "Epoch 43/200\n",
      "68/68 [==============================] - 0s 1ms/step - loss: -0.5238 - acc: 0.0945 - val_loss: -0.5204 - val_acc: 0.0714\n",
      "Epoch 44/200\n",
      "68/68 [==============================] - 0s 1ms/step - loss: -0.5245 - acc: 0.0945 - val_loss: -0.5210 - val_acc: 0.0714\n",
      "Epoch 45/200\n",
      "68/68 [==============================] - 0s 1ms/step - loss: -0.5250 - acc: 0.0945 - val_loss: -0.5216 - val_acc: 0.0714\n",
      "Epoch 46/200\n",
      "68/68 [==============================] - 0s 1ms/step - loss: -0.5256 - acc: 0.0966 - val_loss: -0.5222 - val_acc: 0.0714\n",
      "Epoch 47/200\n",
      "68/68 [==============================] - 0s 2ms/step - loss: -0.5261 - acc: 0.0966 - val_loss: -0.5226 - val_acc: 0.0794\n",
      "Epoch 48/200\n",
      "68/68 [==============================] - 0s 1ms/step - loss: -0.5267 - acc: 0.1008 - val_loss: -0.5229 - val_acc: 0.0794\n",
      "Epoch 49/200\n",
      "68/68 [==============================] - 0s 1ms/step - loss: -0.5272 - acc: 0.0966 - val_loss: -0.5233 - val_acc: 0.0794\n",
      "Epoch 50/200\n",
      "68/68 [==============================] - 0s 1ms/step - loss: -0.5277 - acc: 0.0966 - val_loss: -0.5234 - val_acc: 0.0794\n",
      "Epoch 51/200\n",
      "68/68 [==============================] - 0s 1ms/step - loss: -0.5284 - acc: 0.0966 - val_loss: -0.5238 - val_acc: 0.0794\n",
      "Epoch 52/200\n",
      "68/68 [==============================] - 0s 1ms/step - loss: -0.5288 - acc: 0.0966 - val_loss: -0.5244 - val_acc: 0.0714\n",
      "Epoch 53/200\n",
      "68/68 [==============================] - 0s 1ms/step - loss: -0.5293 - acc: 0.0966 - val_loss: -0.5246 - val_acc: 0.0714\n",
      "Epoch 54/200\n",
      "68/68 [==============================] - 0s 1ms/step - loss: -0.5298 - acc: 0.0966 - val_loss: -0.5252 - val_acc: 0.0714\n",
      "Epoch 55/200\n",
      "68/68 [==============================] - 0s 1ms/step - loss: -0.5303 - acc: 0.0987 - val_loss: -0.5258 - val_acc: 0.0714\n",
      "Epoch 56/200\n",
      "68/68 [==============================] - 0s 1ms/step - loss: -0.5308 - acc: 0.0987 - val_loss: -0.5264 - val_acc: 0.0714\n",
      "Epoch 57/200\n",
      "68/68 [==============================] - 0s 1ms/step - loss: -0.5313 - acc: 0.0966 - val_loss: -0.5267 - val_acc: 0.0714\n",
      "Epoch 58/200\n",
      "68/68 [==============================] - 0s 1ms/step - loss: -0.5317 - acc: 0.0945 - val_loss: -0.5267 - val_acc: 0.0714\n",
      "Epoch 59/200\n",
      "68/68 [==============================] - 0s 1ms/step - loss: -0.5321 - acc: 0.0966 - val_loss: -0.5272 - val_acc: 0.0794\n",
      "Epoch 60/200\n",
      "68/68 [==============================] - 0s 1ms/step - loss: -0.5325 - acc: 0.0987 - val_loss: -0.5275 - val_acc: 0.0794\n",
      "Epoch 61/200\n",
      "68/68 [==============================] - 0s 1ms/step - loss: -0.5329 - acc: 0.0987 - val_loss: -0.5280 - val_acc: 0.0794\n"
     ]
    },
    {
     "name": "stdout",
     "output_type": "stream",
     "text": [
      "Epoch 62/200\n",
      "68/68 [==============================] - 0s 1ms/step - loss: -0.5332 - acc: 0.0987 - val_loss: -0.5287 - val_acc: 0.0794\n",
      "Epoch 63/200\n",
      "68/68 [==============================] - 0s 956us/step - loss: -0.5336 - acc: 0.0966 - val_loss: -0.5288 - val_acc: 0.0873\n",
      "Epoch 64/200\n",
      "68/68 [==============================] - 0s 1ms/step - loss: -0.5340 - acc: 0.0966 - val_loss: -0.5286 - val_acc: 0.0873\n",
      "Epoch 65/200\n",
      "68/68 [==============================] - 0s 956us/step - loss: -0.5343 - acc: 0.0987 - val_loss: -0.5287 - val_acc: 0.0873\n",
      "Epoch 66/200\n",
      "68/68 [==============================] - 0s 1ms/step - loss: -0.5347 - acc: 0.0987 - val_loss: -0.5289 - val_acc: 0.0873\n",
      "Epoch 67/200\n",
      "68/68 [==============================] - 0s 1ms/step - loss: -0.5351 - acc: 0.0987 - val_loss: -0.5294 - val_acc: 0.0873\n",
      "Epoch 68/200\n",
      "68/68 [==============================] - 0s 980us/step - loss: -0.5355 - acc: 0.0987 - val_loss: -0.5300 - val_acc: 0.0952\n",
      "Epoch 69/200\n",
      "68/68 [==============================] - 0s 1ms/step - loss: -0.5359 - acc: 0.0987 - val_loss: -0.5308 - val_acc: 0.0873\n",
      "Epoch 70/200\n",
      "68/68 [==============================] - 0s 1ms/step - loss: -0.5363 - acc: 0.0966 - val_loss: -0.5314 - val_acc: 0.0873\n",
      "Epoch 71/200\n",
      "68/68 [==============================] - 0s 905us/step - loss: -0.5366 - acc: 0.0966 - val_loss: -0.5318 - val_acc: 0.0873\n",
      "Epoch 72/200\n",
      "68/68 [==============================] - ETA: 0s - loss: -0.5536 - acc: 0.06 - 0s 955us/step - loss: -0.5370 - acc: 0.0966 - val_loss: -0.5320 - val_acc: 0.0873\n",
      "Epoch 73/200\n",
      "68/68 [==============================] - 0s 1ms/step - loss: -0.5373 - acc: 0.0966 - val_loss: -0.5322 - val_acc: 0.0952\n",
      "Epoch 74/200\n",
      "68/68 [==============================] - 0s 891us/step - loss: -0.5376 - acc: 0.0966 - val_loss: -0.5323 - val_acc: 0.0952\n",
      "Epoch 75/200\n",
      "68/68 [==============================] - 0s 884us/step - loss: -0.5380 - acc: 0.0966 - val_loss: -0.5317 - val_acc: 0.0952\n",
      "Epoch 76/200\n",
      "68/68 [==============================] - 0s 903us/step - loss: -0.5382 - acc: 0.0966 - val_loss: -0.5313 - val_acc: 0.0952\n",
      "Epoch 77/200\n",
      "68/68 [==============================] - 0s 928us/step - loss: -0.5385 - acc: 0.0945 - val_loss: -0.5316 - val_acc: 0.0952\n",
      "Epoch 78/200\n",
      "68/68 [==============================] - 0s 928us/step - loss: -0.5390 - acc: 0.0945 - val_loss: -0.5322 - val_acc: 0.1032\n",
      "Epoch 79/200\n",
      "68/68 [==============================] - 0s 861us/step - loss: -0.5394 - acc: 0.0945 - val_loss: -0.5330 - val_acc: 0.1032\n",
      "Epoch 80/200\n",
      "68/68 [==============================] - 0s 888us/step - loss: -0.5396 - acc: 0.0945 - val_loss: -0.5336 - val_acc: 0.1032\n",
      "Epoch 81/200\n",
      "68/68 [==============================] - 0s 950us/step - loss: -0.5396 - acc: 0.0945 - val_loss: -0.5335 - val_acc: 0.1032\n",
      "Epoch 82/200\n",
      "68/68 [==============================] - 0s 982us/step - loss: -0.5402 - acc: 0.0966 - val_loss: -0.5324 - val_acc: 0.1032\n",
      "Epoch 83/200\n",
      "68/68 [==============================] - 0s 969us/step - loss: -0.5401 - acc: 0.0945 - val_loss: -0.5310 - val_acc: 0.1032\n",
      "Epoch 84/200\n",
      "68/68 [==============================] - 0s 1ms/step - loss: -0.5401 - acc: 0.0945 - val_loss: -0.5306 - val_acc: 0.1032\n",
      "Epoch 85/200\n",
      "68/68 [==============================] - 0s 1ms/step - loss: -0.5402 - acc: 0.0945 - val_loss: -0.5311 - val_acc: 0.1111\n",
      "Epoch 86/200\n",
      "68/68 [==============================] - 0s 994us/step - loss: -0.5408 - acc: 0.0966 - val_loss: -0.5324 - val_acc: 0.1111\n",
      "Epoch 87/200\n",
      "68/68 [==============================] - 0s 1ms/step - loss: -0.5413 - acc: 0.0945 - val_loss: -0.5332 - val_acc: 0.1111\n",
      "Epoch 88/200\n",
      "68/68 [==============================] - 0s 1ms/step - loss: -0.5417 - acc: 0.0945 - val_loss: -0.5334 - val_acc: 0.1111\n",
      "Epoch 89/200\n",
      "68/68 [==============================] - 0s 1ms/step - loss: -0.5420 - acc: 0.0945 - val_loss: -0.5332 - val_acc: 0.1111\n",
      "Epoch 90/200\n",
      "68/68 [==============================] - 0s 918us/step - loss: -0.5423 - acc: 0.0945 - val_loss: -0.5332 - val_acc: 0.1032\n",
      "Epoch 91/200\n",
      "68/68 [==============================] - 0s 1ms/step - loss: -0.5425 - acc: 0.0945 - val_loss: -0.5330 - val_acc: 0.1032\n",
      "Epoch 92/200\n",
      "68/68 [==============================] - 0s 857us/step - loss: -0.5429 - acc: 0.0966 - val_loss: -0.5333 - val_acc: 0.1032\n",
      "Epoch 93/200\n",
      "68/68 [==============================] - 0s 908us/step - loss: -0.5432 - acc: 0.0966 - val_loss: -0.5337 - val_acc: 0.1032\n",
      "Epoch 94/200\n",
      "68/68 [==============================] - 0s 978us/step - loss: -0.5435 - acc: 0.0966 - val_loss: -0.5340 - val_acc: 0.1032\n",
      "Epoch 95/200\n",
      "68/68 [==============================] - 0s 879us/step - loss: -0.5438 - acc: 0.0945 - val_loss: -0.5341 - val_acc: 0.1032\n",
      "Epoch 96/200\n",
      "68/68 [==============================] - 0s 1ms/step - loss: -0.5441 - acc: 0.0966 - val_loss: -0.5342 - val_acc: 0.1111\n",
      "Epoch 97/200\n",
      "68/68 [==============================] - 0s 1ms/step - loss: -0.5443 - acc: 0.0966 - val_loss: -0.5343 - val_acc: 0.1111\n",
      "Epoch 98/200\n",
      "68/68 [==============================] - 0s 1ms/step - loss: -0.5445 - acc: 0.0966 - val_loss: -0.5343 - val_acc: 0.1111\n",
      "Epoch 99/200\n",
      "68/68 [==============================] - 0s 852us/step - loss: -0.5447 - acc: 0.0987 - val_loss: -0.5343 - val_acc: 0.1111\n",
      "Epoch 100/200\n",
      "68/68 [==============================] - 0s 920us/step - loss: -0.5449 - acc: 0.1008 - val_loss: -0.5347 - val_acc: 0.1111\n",
      "Epoch 101/200\n",
      "68/68 [==============================] - 0s 875us/step - loss: -0.5452 - acc: 0.0987 - val_loss: -0.5349 - val_acc: 0.1190\n",
      "Epoch 102/200\n",
      "68/68 [==============================] - 0s 893us/step - loss: -0.5455 - acc: 0.1008 - val_loss: -0.5351 - val_acc: 0.1190\n",
      "Epoch 103/200\n",
      "68/68 [==============================] - 0s 859us/step - loss: -0.5457 - acc: 0.1008 - val_loss: -0.5351 - val_acc: 0.1190\n",
      "Epoch 104/200\n",
      "68/68 [==============================] - 0s 913us/step - loss: -0.5460 - acc: 0.1008 - val_loss: -0.5352 - val_acc: 0.1190\n",
      "Epoch 105/200\n",
      "68/68 [==============================] - 0s 902us/step - loss: -0.5462 - acc: 0.1008 - val_loss: -0.5349 - val_acc: 0.1190\n",
      "Epoch 106/200\n",
      "68/68 [==============================] - 0s 912us/step - loss: -0.5464 - acc: 0.1008 - val_loss: -0.5342 - val_acc: 0.1190\n",
      "Epoch 107/200\n",
      "68/68 [==============================] - 0s 923us/step - loss: -0.5465 - acc: 0.1008 - val_loss: -0.5342 - val_acc: 0.1190\n",
      "Epoch 108/200\n",
      "68/68 [==============================] - 0s 930us/step - loss: -0.5469 - acc: 0.1008 - val_loss: -0.5351 - val_acc: 0.1190\n",
      "Epoch 109/200\n",
      "68/68 [==============================] - 0s 925us/step - loss: -0.5472 - acc: 0.1008 - val_loss: -0.5356 - val_acc: 0.1190\n",
      "Epoch 110/200\n",
      "68/68 [==============================] - 0s 936us/step - loss: -0.5476 - acc: 0.0987 - val_loss: -0.5353 - val_acc: 0.1190\n",
      "Epoch 111/200\n",
      "68/68 [==============================] - 0s 914us/step - loss: -0.5478 - acc: 0.0987 - val_loss: -0.5349 - val_acc: 0.1190\n",
      "Epoch 112/200\n",
      "68/68 [==============================] - 0s 939us/step - loss: -0.5478 - acc: 0.1008 - val_loss: -0.5350 - val_acc: 0.1190\n",
      "Epoch 113/200\n",
      "68/68 [==============================] - 0s 880us/step - loss: -0.5480 - acc: 0.1008 - val_loss: -0.5352 - val_acc: 0.1190\n",
      "Epoch 114/200\n",
      "68/68 [==============================] - 0s 936us/step - loss: -0.5484 - acc: 0.1008 - val_loss: -0.5354 - val_acc: 0.1270\n",
      "Epoch 115/200\n",
      "68/68 [==============================] - 0s 979us/step - loss: -0.5487 - acc: 0.1008 - val_loss: -0.5358 - val_acc: 0.1270\n",
      "Epoch 116/200\n",
      "68/68 [==============================] - 0s 886us/step - loss: -0.5490 - acc: 0.1008 - val_loss: -0.5356 - val_acc: 0.1270\n",
      "Epoch 117/200\n",
      "68/68 [==============================] - 0s 941us/step - loss: -0.5489 - acc: 0.1008 - val_loss: -0.5347 - val_acc: 0.1270\n",
      "Epoch 118/200\n",
      "68/68 [==============================] - 0s 930us/step - loss: -0.5487 - acc: 0.1008 - val_loss: -0.5341 - val_acc: 0.1270\n",
      "Epoch 119/200\n",
      "68/68 [==============================] - 0s 988us/step - loss: -0.5487 - acc: 0.1008 - val_loss: -0.5344 - val_acc: 0.1270\n",
      "Epoch 120/200\n",
      "68/68 [==============================] - 0s 946us/step - loss: -0.5493 - acc: 0.1029 - val_loss: -0.5356 - val_acc: 0.1270\n",
      "Epoch 121/200\n",
      "68/68 [==============================] - 0s 932us/step - loss: -0.5498 - acc: 0.1071 - val_loss: -0.5367 - val_acc: 0.1270\n"
     ]
    },
    {
     "name": "stdout",
     "output_type": "stream",
     "text": [
      "Epoch 122/200\n",
      "68/68 [==============================] - 0s 913us/step - loss: -0.5502 - acc: 0.1071 - val_loss: -0.5369 - val_acc: 0.1270\n",
      "Epoch 123/200\n",
      "68/68 [==============================] - 0s 840us/step - loss: -0.5502 - acc: 0.1071 - val_loss: -0.5373 - val_acc: 0.1270\n",
      "Epoch 124/200\n",
      "68/68 [==============================] - 0s 930us/step - loss: -0.5504 - acc: 0.1050 - val_loss: -0.5374 - val_acc: 0.1190\n",
      "Epoch 125/200\n",
      "68/68 [==============================] - 0s 903us/step - loss: -0.5508 - acc: 0.1050 - val_loss: -0.5370 - val_acc: 0.1190\n",
      "Epoch 126/200\n",
      "68/68 [==============================] - 0s 873us/step - loss: -0.5509 - acc: 0.1050 - val_loss: -0.5367 - val_acc: 0.1190\n",
      "Epoch 127/200\n",
      "68/68 [==============================] - 0s 913us/step - loss: -0.5512 - acc: 0.1050 - val_loss: -0.5368 - val_acc: 0.1190\n",
      "Epoch 128/200\n",
      "68/68 [==============================] - 0s 926us/step - loss: -0.5514 - acc: 0.1050 - val_loss: -0.5373 - val_acc: 0.1190\n",
      "Epoch 129/200\n",
      "68/68 [==============================] - 0s 851us/step - loss: -0.5516 - acc: 0.1050 - val_loss: -0.5379 - val_acc: 0.1190\n",
      "Epoch 130/200\n",
      "68/68 [==============================] - 0s 864us/step - loss: -0.5519 - acc: 0.1071 - val_loss: -0.5382 - val_acc: 0.1190\n",
      "Epoch 131/200\n",
      "68/68 [==============================] - 0s 891us/step - loss: -0.5521 - acc: 0.1050 - val_loss: -0.5385 - val_acc: 0.1190\n",
      "Epoch 132/200\n",
      "68/68 [==============================] - 0s 1ms/step - loss: -0.5523 - acc: 0.1029 - val_loss: -0.5387 - val_acc: 0.1190\n",
      "Epoch 133/200\n",
      "68/68 [==============================] - 0s 969us/step - loss: -0.5524 - acc: 0.1008 - val_loss: -0.5390 - val_acc: 0.1190\n",
      "Epoch 134/200\n",
      "68/68 [==============================] - 0s 911us/step - loss: -0.5524 - acc: 0.1071 - val_loss: -0.5390 - val_acc: 0.1190\n",
      "Epoch 135/200\n",
      "68/68 [==============================] - 0s 880us/step - loss: -0.5525 - acc: 0.1071 - val_loss: -0.5390 - val_acc: 0.1190\n",
      "Epoch 136/200\n",
      "68/68 [==============================] - 0s 900us/step - loss: -0.5526 - acc: 0.1008 - val_loss: -0.5390 - val_acc: 0.1111\n",
      "Epoch 137/200\n",
      "68/68 [==============================] - 0s 950us/step - loss: -0.5530 - acc: 0.0987 - val_loss: -0.5387 - val_acc: 0.1111\n",
      "Epoch 138/200\n",
      "68/68 [==============================] - 0s 908us/step - loss: -0.5534 - acc: 0.1050 - val_loss: -0.5379 - val_acc: 0.1111\n",
      "Epoch 139/200\n",
      "68/68 [==============================] - 0s 920us/step - loss: -0.5536 - acc: 0.1050 - val_loss: -0.5376 - val_acc: 0.1111\n",
      "Epoch 140/200\n",
      "68/68 [==============================] - 0s 916us/step - loss: -0.5539 - acc: 0.1071 - val_loss: -0.5378 - val_acc: 0.1111\n",
      "Epoch 141/200\n",
      "68/68 [==============================] - 0s 923us/step - loss: -0.5542 - acc: 0.1071 - val_loss: -0.5379 - val_acc: 0.1190\n",
      "Epoch 142/200\n",
      "68/68 [==============================] - 0s 945us/step - loss: -0.5544 - acc: 0.1071 - val_loss: -0.5382 - val_acc: 0.1190\n",
      "Epoch 143/200\n",
      "68/68 [==============================] - 0s 939us/step - loss: -0.5544 - acc: 0.1071 - val_loss: -0.5386 - val_acc: 0.1190\n",
      "Epoch 144/200\n",
      "68/68 [==============================] - 0s 918us/step - loss: -0.5546 - acc: 0.1071 - val_loss: -0.5388 - val_acc: 0.1111\n",
      "Epoch 145/200\n",
      "68/68 [==============================] - 0s 968us/step - loss: -0.5548 - acc: 0.1092 - val_loss: -0.5390 - val_acc: 0.1111\n",
      "Epoch 146/200\n",
      "68/68 [==============================] - 0s 938us/step - loss: -0.5548 - acc: 0.1071 - val_loss: -0.5391 - val_acc: 0.1111\n",
      "Epoch 147/200\n",
      "68/68 [==============================] - 0s 929us/step - loss: -0.5550 - acc: 0.1008 - val_loss: -0.5390 - val_acc: 0.1111\n",
      "Epoch 148/200\n",
      "68/68 [==============================] - 0s 926us/step - loss: -0.5554 - acc: 0.1008 - val_loss: -0.5388 - val_acc: 0.1111\n",
      "Epoch 149/200\n",
      "68/68 [==============================] - 0s 943us/step - loss: -0.5558 - acc: 0.1092 - val_loss: -0.5386 - val_acc: 0.1111\n",
      "Epoch 150/200\n",
      "68/68 [==============================] - 0s 1ms/step - loss: -0.5558 - acc: 0.1092 - val_loss: -0.5385 - val_acc: 0.1111\n",
      "Epoch 151/200\n",
      "68/68 [==============================] - 0s 1ms/step - loss: -0.5559 - acc: 0.1092 - val_loss: -0.5385 - val_acc: 0.1190\n",
      "Epoch 152/200\n",
      "68/68 [==============================] - 0s 995us/step - loss: -0.5562 - acc: 0.1092 - val_loss: -0.5391 - val_acc: 0.1190\n",
      "Epoch 153/200\n",
      "68/68 [==============================] - 0s 1ms/step - loss: -0.5564 - acc: 0.1134 - val_loss: -0.5395 - val_acc: 0.1190\n",
      "Epoch 154/200\n",
      "68/68 [==============================] - 0s 1ms/step - loss: -0.5565 - acc: 0.1134 - val_loss: -0.5394 - val_acc: 0.1190\n",
      "Epoch 155/200\n",
      "68/68 [==============================] - 0s 1ms/step - loss: -0.5568 - acc: 0.1092 - val_loss: -0.5384 - val_acc: 0.1190\n",
      "Epoch 156/200\n",
      "68/68 [==============================] - 0s 987us/step - loss: -0.5568 - acc: 0.1071 - val_loss: -0.5382 - val_acc: 0.1429\n",
      "Epoch 157/200\n",
      "68/68 [==============================] - 0s 974us/step - loss: -0.5570 - acc: 0.1134 - val_loss: -0.5391 - val_acc: 0.1349\n",
      "Epoch 158/200\n",
      "68/68 [==============================] - 0s 1ms/step - loss: -0.5574 - acc: 0.1197 - val_loss: -0.5403 - val_acc: 0.1349\n",
      "Epoch 159/200\n",
      "68/68 [==============================] - 0s 1ms/step - loss: -0.5575 - acc: 0.1218 - val_loss: -0.5411 - val_acc: 0.1349\n",
      "Epoch 160/200\n",
      "68/68 [==============================] - 0s 977us/step - loss: -0.5578 - acc: 0.1197 - val_loss: -0.5412 - val_acc: 0.1270\n",
      "Epoch 161/200\n",
      "68/68 [==============================] - 0s 960us/step - loss: -0.5580 - acc: 0.1218 - val_loss: -0.5409 - val_acc: 0.1270\n",
      "Epoch 162/200\n",
      "68/68 [==============================] - 0s 2ms/step - loss: -0.5582 - acc: 0.1218 - val_loss: -0.5408 - val_acc: 0.1032\n",
      "Epoch 163/200\n",
      "68/68 [==============================] - 0s 999us/step - loss: -0.5582 - acc: 0.1155 - val_loss: -0.5408 - val_acc: 0.1032\n",
      "Epoch 164/200\n",
      "68/68 [==============================] - 0s 956us/step - loss: -0.5584 - acc: 0.1113 - val_loss: -0.5409 - val_acc: 0.1032\n",
      "Epoch 165/200\n",
      "68/68 [==============================] - 0s 1ms/step - loss: -0.5587 - acc: 0.1134 - val_loss: -0.5411 - val_acc: 0.1032\n",
      "Epoch 166/200\n",
      "68/68 [==============================] - 0s 1ms/step - loss: -0.5590 - acc: 0.1134 - val_loss: -0.5407 - val_acc: 0.1032\n",
      "Epoch 167/200\n",
      "68/68 [==============================] - 0s 898us/step - loss: -0.5593 - acc: 0.1134 - val_loss: -0.5396 - val_acc: 0.1032\n",
      "Epoch 168/200\n",
      "68/68 [==============================] - 0s 873us/step - loss: -0.5591 - acc: 0.1134 - val_loss: -0.5389 - val_acc: 0.1111\n",
      "Epoch 169/200\n",
      "68/68 [==============================] - 0s 914us/step - loss: -0.5590 - acc: 0.1134 - val_loss: -0.5394 - val_acc: 0.1349\n",
      "Epoch 170/200\n",
      "68/68 [==============================] - 0s 926us/step - loss: -0.5594 - acc: 0.1218 - val_loss: -0.5400 - val_acc: 0.1349\n",
      "Epoch 171/200\n",
      "68/68 [==============================] - 0s 917us/step - loss: -0.5598 - acc: 0.1239 - val_loss: -0.5401 - val_acc: 0.1349\n",
      "Epoch 172/200\n",
      "68/68 [==============================] - 0s 899us/step - loss: -0.5600 - acc: 0.1239 - val_loss: -0.5402 - val_acc: 0.1349\n",
      "Epoch 173/200\n",
      "68/68 [==============================] - 0s 910us/step - loss: -0.5603 - acc: 0.1218 - val_loss: -0.5404 - val_acc: 0.1349\n",
      "Epoch 174/200\n",
      "68/68 [==============================] - 0s 950us/step - loss: -0.5606 - acc: 0.1218 - val_loss: -0.5405 - val_acc: 0.1349\n",
      "Epoch 175/200\n",
      "68/68 [==============================] - 0s 1ms/step - loss: -0.5608 - acc: 0.1218 - val_loss: -0.5407 - val_acc: 0.1270\n",
      "Epoch 176/200\n",
      "68/68 [==============================] - 0s 1ms/step - loss: -0.5609 - acc: 0.1155 - val_loss: -0.5408 - val_acc: 0.1270\n",
      "Epoch 177/200\n",
      "68/68 [==============================] - 0s 1ms/step - loss: -0.5610 - acc: 0.1176 - val_loss: -0.5410 - val_acc: 0.1270\n",
      "Epoch 178/200\n",
      "68/68 [==============================] - 0s 1ms/step - loss: -0.5613 - acc: 0.1197 - val_loss: -0.5410 - val_acc: 0.1270\n",
      "Epoch 179/200\n",
      "68/68 [==============================] - 0s 1ms/step - loss: -0.5615 - acc: 0.1197 - val_loss: -0.5410 - val_acc: 0.1270\n",
      "Epoch 180/200\n",
      "68/68 [==============================] - 0s 1ms/step - loss: -0.5617 - acc: 0.1197 - val_loss: -0.5412 - val_acc: 0.1270\n",
      "Epoch 181/200\n",
      "68/68 [==============================] - 0s 996us/step - loss: -0.5620 - acc: 0.1176 - val_loss: -0.5409 - val_acc: 0.1349\n",
      "Epoch 182/200\n"
     ]
    },
    {
     "name": "stdout",
     "output_type": "stream",
     "text": [
      "68/68 [==============================] - 0s 915us/step - loss: -0.5620 - acc: 0.1155 - val_loss: -0.5404 - val_acc: 0.1270\n",
      "Epoch 183/200\n",
      "68/68 [==============================] - 0s 1ms/step - loss: -0.5618 - acc: 0.1134 - val_loss: -0.5397 - val_acc: 0.1270\n",
      "Epoch 184/200\n",
      "68/68 [==============================] - 0s 1ms/step - loss: -0.5619 - acc: 0.1155 - val_loss: -0.5391 - val_acc: 0.1270\n",
      "Epoch 185/200\n",
      "68/68 [==============================] - 0s 883us/step - loss: -0.5621 - acc: 0.1155 - val_loss: -0.5388 - val_acc: 0.1429\n",
      "Epoch 186/200\n",
      "68/68 [==============================] - ETA: 0s - loss: -0.5471 - acc: 0.12 - 0s 833us/step - loss: -0.5624 - acc: 0.1155 - val_loss: -0.5389 - val_acc: 0.1429\n",
      "Epoch 187/200\n",
      "68/68 [==============================] - 0s 1ms/step - loss: -0.5626 - acc: 0.1155 - val_loss: -0.5395 - val_acc: 0.1429\n",
      "Epoch 188/200\n",
      "68/68 [==============================] - 0s 997us/step - loss: -0.5629 - acc: 0.1176 - val_loss: -0.5405 - val_acc: 0.1429\n",
      "Epoch 189/200\n",
      "68/68 [==============================] - 0s 2ms/step - loss: -0.5633 - acc: 0.1176 - val_loss: -0.5410 - val_acc: 0.1429\n",
      "Epoch 190/200\n",
      "68/68 [==============================] - 0s 2ms/step - loss: -0.5633 - acc: 0.1218 - val_loss: -0.5411 - val_acc: 0.1349\n",
      "Epoch 191/200\n",
      "68/68 [==============================] - 0s 1ms/step - loss: -0.5633 - acc: 0.1239 - val_loss: -0.5409 - val_acc: 0.1349\n",
      "Epoch 192/200\n",
      "68/68 [==============================] - 0s 1ms/step - loss: -0.5636 - acc: 0.1261 - val_loss: -0.5401 - val_acc: 0.1349\n",
      "Epoch 193/200\n",
      "68/68 [==============================] - 0s 1ms/step - loss: -0.5637 - acc: 0.1261 - val_loss: -0.5398 - val_acc: 0.1349\n",
      "Epoch 194/200\n",
      "68/68 [==============================] - 0s 1ms/step - loss: -0.5640 - acc: 0.1261 - val_loss: -0.5394 - val_acc: 0.1349\n",
      "Epoch 195/200\n",
      "68/68 [==============================] - 0s 1ms/step - loss: -0.5640 - acc: 0.1239 - val_loss: -0.5392 - val_acc: 0.1349\n",
      "Epoch 196/200\n",
      "68/68 [==============================] - 0s 2ms/step - loss: -0.5642 - acc: 0.1239 - val_loss: -0.5389 - val_acc: 0.1349\n",
      "Epoch 197/200\n",
      "68/68 [==============================] - 0s 2ms/step - loss: -0.5641 - acc: 0.1155 - val_loss: -0.5380 - val_acc: 0.1349\n",
      "Epoch 198/200\n",
      "68/68 [==============================] - 0s 1ms/step - loss: -0.5640 - acc: 0.1155 - val_loss: -0.5376 - val_acc: 0.1349\n",
      "Epoch 199/200\n",
      "68/68 [==============================] - ETA: 0s - loss: -0.5741 - acc: 0.11 - 0s 2ms/step - loss: -0.5641 - acc: 0.1197 - val_loss: -0.5380 - val_acc: 0.1349\n",
      "Epoch 200/200\n",
      "68/68 [==============================] - 0s 1ms/step - loss: -0.5645 - acc: 0.1197 - val_loss: -0.5389 - val_acc: 0.1349\n"
     ]
    }
   ],
   "source": [
    "# Fir the model\n",
    "model.fit(x_train, y_train, epochs=200,validation_data=(x_test, y_test))\n",
    "model.save('LSTM200.h5')"
   ]
  },
  {
   "cell_type": "code",
   "execution_count": null,
   "metadata": {
    "collapsed": true
   },
   "outputs": [],
   "source": []
  }
 ],
 "metadata": {
  "kernelspec": {
   "display_name": "Python 3",
   "language": "python",
   "name": "python3"
  },
  "language_info": {
   "codemirror_mode": {
    "name": "ipython",
    "version": 3
   },
   "file_extension": ".py",
   "mimetype": "text/x-python",
   "name": "python",
   "nbconvert_exporter": "python",
   "pygments_lexer": "ipython3",
   "version": "3.6.3"
  }
 },
 "nbformat": 4,
 "nbformat_minor": 2
}
