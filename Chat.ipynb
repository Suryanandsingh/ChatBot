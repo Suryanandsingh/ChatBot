{
 "cells": [
  {
   "cell_type": "code",
   "execution_count": 1,
   "metadata": {},
   "outputs": [
    {
     "name": "stderr",
     "output_type": "stream",
     "text": [
      "Using TensorFlow backend.\n"
     ]
    }
   ],
   "source": [
    "import numpy as np\n",
    "import gensim\n",
    "import nltk\n",
    "from keras.models import load_model"
   ]
  },
  {
   "cell_type": "code",
   "execution_count": 2,
   "metadata": {
    "collapsed": true
   },
   "outputs": [],
   "source": [
    "model_set=load_model('LSTM200.h5')"
   ]
  },
  {
   "cell_type": "code",
   "execution_count": 3,
   "metadata": {
    "collapsed": true
   },
   "outputs": [],
   "source": [
    "model = gensim.models.Word2Vec.load('review_movie.bin')"
   ]
  },
  {
   "cell_type": "code",
   "execution_count": null,
   "metadata": {
    "scrolled": true
   },
   "outputs": [],
   "source": [
    "while(True):\n",
    "    x=input(\"Enter the message:\");\n",
    "    sentend=np.ones((100,),dtype=object) \n",
    "\n",
    "    sent=nltk.word_tokenize(x.lower())\n",
    "    sentvec = [model[w] for w in sent if w in model.wv.vocab]\n",
    "\n",
    "    sentvec[6:]=[]\n",
    "    sentvec.append(sentend)\n",
    "    if len(sentvec)<7:\n",
    "        for i in range(7-len(sentvec)):\n",
    "            sentvec.append(sentend) \n",
    "    sentvec=np.array([sentvec])\n",
    "    \n",
    "    predictions = model_set.predict(sentvec)\n",
    "    outputlist=[model.most_similar([predictions[0][i]])[0][0] for i in range(7)]\n",
    "    output=' '.join(outputlist)\n",
    "    print(output)"
   ]
  },
  {
   "cell_type": "code",
   "execution_count": null,
   "metadata": {
    "collapsed": true
   },
   "outputs": [],
   "source": []
  }
 ],
 "metadata": {
  "kernelspec": {
   "display_name": "Python 3",
   "language": "python",
   "name": "python3"
  },
  "language_info": {
   "codemirror_mode": {
    "name": "ipython",
    "version": 3
   },
   "file_extension": ".py",
   "mimetype": "text/x-python",
   "name": "python",
   "nbconvert_exporter": "python",
   "pygments_lexer": "ipython3",
   "version": "3.6.3"
  }
 },
 "nbformat": 4,
 "nbformat_minor": 2
}
